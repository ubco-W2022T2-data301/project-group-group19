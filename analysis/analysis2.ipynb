{
 "cells": [
  {
   "cell_type": "markdown",
   "metadata": {},
   "source": [
    "# Levi Boswell"
   ]
  },
  {
   "cell_type": "markdown",
   "metadata": {},
   "source": [
    "## Research question/interests\n",
    "\n",
    "With the current information from this dataset dating all the way back to ruffly 1970 and all the way up to the current. I am intrested in seeing and extracting possible patterns in the data that would be helpful in predicting the possible fufture rate of the inflation.\n",
    "\n",
    "1. Is canada's strategy more or less effective then other similar countries? why?\n",
    "    - breaking down the data to see how effective canada position is against other similar countries\n",
    "    - creating a graph plot and extracting patterns from particular time points to determine weather our strategies are improving.\n",
    "2. Does the G7 nations strategies perform in comparision to other nations?\n",
    "    - this data set has G7, EU, and G20 also as catagories which we can use to help understand similair patterns that will holfully help explain lighlty why the G7 is performing the way it does."
   ]
  },
  {
   "attachments": {},
   "cell_type": "markdown",
   "metadata": {},
   "source": [
    "# Refining Reaserch Questions from EDA\n",
    " the amount of information contained is vastly larger then i expected when doing EDA and Canada alone could be its own topic. this includes the volitlitiy of CPI in foundational sectors of the Economy. A stable growth rate is desired and could be argued to be key in a balanced economy or strong economy. with that we can ask the follwing question and derive a estimate based on CPI weather Canada is heading in a good direction or not. by seeing canada recent trends and comparing them with other like minded countries.\n",
    " \n",
    "1. __What patterns in the CPI lead to show weather Canada is weakeneing or stenghting its economy of the past 4 years?__  \n",
    "2. __Is Volitlity in CPI really determental to a strong economy?__\n",
    "\n",
    "# Reviesed Analysis Plan\n",
    "\n",
    "in continueation of clenaing as porcessing the data needed to compare canada to like minded countries the data itself has the G7 which canda is included in and could be a good place to start with breaking down some data rom each of them and running some ridgeline graphs of the total CPI of the countries or even by catagory to see how stable the CPI is compared to Canada. we could also pull in some external recourses to help explain reasoning behind some of the patterns from news sources and articals if we find a pattern that is common throught the data. exammple Covid-19 or when the war in ukrain started. we will need to clean all the countries in a similar fashion to the EDA and then extract the inflation rates from CPI to perentages for easier time reading. somthing that is familair to the genral public.  \n"
   ]
  },
  {
   "attachments": {},
   "cell_type": "markdown",
   "metadata": {},
   "source": [
    "## CONLUSION\n",
    "\n",
    "in consclusion Canada seems to be fairly resielent in terms of fluxuation in its inflation even though its energy sector can varie quite extremely at times. essepcailly considering the pandemic was 2 of those years it seems as though canda is comparable to USA in terms of controling its infaltion rate and could say even excels as the the change  was the lost overall averge in 2022. it beats out most other keeping a low overall CPI and a negitve rate of change. and the VOlitility of the CPI value in some caratagories like Energy don't seem to have a great overall negitive effect."
   ]
  },
  {
   "attachments": {},
   "cell_type": "markdown",
   "metadata": {},
   "source": [
    "### Data Pipline\n",
    "\n",
    "1. Load in and chekc all the boundry condition that might apply\n",
    "2. Pick the candiate we are intrested in this case Canada\n",
    "3. Then clean data around Canada boundries that is null values not needed colunm etc.\n",
    "3. After cleaning we wrangle the data such that its in a user freidnly format (date and time)\n",
    "4. Then we graph some simple and effective line plot to use a basis to make sure when we take it the data\n",
    "into a dashboard we have a visual to check that the values and graphs are similar.\n",
    "5. Then constrain all the other country Data to are candidate of intrest such that for any comparision made we will have \n",
    "data to compare agianst it.\n",
    "6. Do this by follwing the same process we did for the canadain set but a braod brush stroke on the entire set rather\n",
    "then breakign it into smaller subsets.\n",
    "7. Then import data into dashboard as its far better to make nice graphs then hard coding them and then proceed to finish \n",
    "analysis."
   ]
  },
  {
   "cell_type": "code",
   "execution_count": 2,
   "metadata": {},
   "outputs": [
    {
     "name": "stderr",
     "output_type": "stream",
     "text": [
      "C:\\Users\\Levi\\AppData\\Local\\Temp\\ipykernel_38992\\2064745314.py:5: FutureWarning: The default value of numeric_only in DataFrameGroupBy.mean is deprecated. In a future version, numeric_only will default to False. Either specify numeric_only or select only columns which should be valid for the function.\n",
      "  datfrm.groupby(\"LOCATION\").mean().head(4)\n"
     ]
    },
    {
     "data": {
      "text/html": [
       "<div>\n",
       "<style scoped>\n",
       "    .dataframe tbody tr th:only-of-type {\n",
       "        vertical-align: middle;\n",
       "    }\n",
       "\n",
       "    .dataframe tbody tr th {\n",
       "        vertical-align: top;\n",
       "    }\n",
       "\n",
       "    .dataframe thead th {\n",
       "        text-align: right;\n",
       "    }\n",
       "</style>\n",
       "<table border=\"1\" class=\"dataframe\">\n",
       "  <thead>\n",
       "    <tr style=\"text-align: right;\">\n",
       "      <th></th>\n",
       "      <th>MEAN CPI</th>\n",
       "    </tr>\n",
       "    <tr>\n",
       "      <th>LOCATION</th>\n",
       "      <th></th>\n",
       "    </tr>\n",
       "  </thead>\n",
       "  <tbody>\n",
       "    <tr>\n",
       "      <th>ARG</th>\n",
       "      <td>49.374443</td>\n",
       "    </tr>\n",
       "    <tr>\n",
       "      <th>AUS</th>\n",
       "      <td>28.548883</td>\n",
       "    </tr>\n",
       "    <tr>\n",
       "      <th>AUT</th>\n",
       "      <td>33.188253</td>\n",
       "    </tr>\n",
       "    <tr>\n",
       "      <th>BEL</th>\n",
       "      <td>36.756986</td>\n",
       "    </tr>\n",
       "  </tbody>\n",
       "</table>\n",
       "</div>"
      ],
      "text/plain": [
       "           MEAN CPI\n",
       "LOCATION           \n",
       "ARG       49.374443\n",
       "AUS       28.548883\n",
       "AUT       33.188253\n",
       "BEL       36.756986"
      ]
     },
     "execution_count": 2,
     "metadata": {},
     "output_type": "execute_result"
    }
   ],
   "source": [
    "import pandas as pd \n",
    "import numpy as np\n",
    "datfrm = pd.read_csv('./../data/raw/Inflationdataset.csv')\n",
    "datfrm.columns.values[6] = \"MEAN CPI\"\n",
    "datfrm.groupby(\"LOCATION\").mean().head(4)\n",
    "\n",
    "\n"
   ]
  },
  {
   "attachments": {},
   "cell_type": "markdown",
   "metadata": {},
   "source": [
    "# EDA \n",
    "Finding and exploring information that could be useful"
   ]
  },
  {
   "cell_type": "code",
   "execution_count": 3,
   "metadata": {},
   "outputs": [],
   "source": [
    "#viausl import \n",
    "import seaborn as sns \n",
    "import matplotlib.pyplot as plt\n",
    "import datetime as dt"
   ]
  },
  {
   "attachments": {},
   "cell_type": "markdown",
   "metadata": {},
   "source": [
    "first lets get an idea of what CPI levels are nad were they sit across the total set. \n",
    "this way we can then understand how best to use them"
   ]
  },
  {
   "cell_type": "code",
   "execution_count": 4,
   "metadata": {},
   "outputs": [
    {
     "data": {
      "text/html": [
       "<div>\n",
       "<style scoped>\n",
       "    .dataframe tbody tr th:only-of-type {\n",
       "        vertical-align: middle;\n",
       "    }\n",
       "\n",
       "    .dataframe tbody tr th {\n",
       "        vertical-align: top;\n",
       "    }\n",
       "\n",
       "    .dataframe thead th {\n",
       "        text-align: right;\n",
       "    }\n",
       "</style>\n",
       "<table border=\"1\" class=\"dataframe\">\n",
       "  <thead>\n",
       "    <tr style=\"text-align: right;\">\n",
       "      <th></th>\n",
       "      <th>CPI</th>\n",
       "    </tr>\n",
       "  </thead>\n",
       "  <tbody>\n",
       "    <tr>\n",
       "      <th>count</th>\n",
       "      <td>293470.000000</td>\n",
       "    </tr>\n",
       "    <tr>\n",
       "      <th>mean</th>\n",
       "      <td>36.528518</td>\n",
       "    </tr>\n",
       "    <tr>\n",
       "      <th>std</th>\n",
       "      <td>77.123971</td>\n",
       "    </tr>\n",
       "    <tr>\n",
       "      <th>min</th>\n",
       "      <td>-100.000000</td>\n",
       "    </tr>\n",
       "    <tr>\n",
       "      <th>25%</th>\n",
       "      <td>3.028452</td>\n",
       "    </tr>\n",
       "    <tr>\n",
       "      <th>50%</th>\n",
       "      <td>12.800525</td>\n",
       "    </tr>\n",
       "    <tr>\n",
       "      <th>75%</th>\n",
       "      <td>67.415548</td>\n",
       "    </tr>\n",
       "    <tr>\n",
       "      <th>max</th>\n",
       "      <td>6821.312000</td>\n",
       "    </tr>\n",
       "  </tbody>\n",
       "</table>\n",
       "</div>"
      ],
      "text/plain": [
       "                 CPI\n",
       "count  293470.000000\n",
       "mean       36.528518\n",
       "std        77.123971\n",
       "min      -100.000000\n",
       "25%         3.028452\n",
       "50%        12.800525\n",
       "75%        67.415548\n",
       "max      6821.312000"
      ]
     },
     "execution_count": 4,
     "metadata": {},
     "output_type": "execute_result"
    }
   ],
   "source": [
    "datfrm = pd.read_csv('./../data/raw/Inflationdataset.csv')\n",
    "datfrm.columns.values[6] = \"CPI\"\n",
    "datfrm.describe()"
   ]
  },
  {
   "attachments": {},
   "cell_type": "markdown",
   "metadata": {},
   "source": [
    "Getting a better idea of the type, format, and boundry conditions of the data set."
   ]
  },
  {
   "cell_type": "code",
   "execution_count": 5,
   "metadata": {},
   "outputs": [
    {
     "data": {
      "text/html": [
       "<div>\n",
       "<style scoped>\n",
       "    .dataframe tbody tr th:only-of-type {\n",
       "        vertical-align: middle;\n",
       "    }\n",
       "\n",
       "    .dataframe tbody tr th {\n",
       "        vertical-align: top;\n",
       "    }\n",
       "\n",
       "    .dataframe thead th {\n",
       "        text-align: right;\n",
       "    }\n",
       "</style>\n",
       "<table border=\"1\" class=\"dataframe\">\n",
       "  <thead>\n",
       "    <tr style=\"text-align: right;\">\n",
       "      <th></th>\n",
       "      <th>LOCATION</th>\n",
       "      <th>INDICATOR</th>\n",
       "      <th>SUBJECT</th>\n",
       "      <th>MEASURE</th>\n",
       "      <th>FREQUENCY</th>\n",
       "      <th>TIME</th>\n",
       "      <th>CPI</th>\n",
       "      <th>Flag Codes</th>\n",
       "    </tr>\n",
       "  </thead>\n",
       "  <tbody>\n",
       "    <tr>\n",
       "      <th>0</th>\n",
       "      <td>AUS</td>\n",
       "      <td>CPI</td>\n",
       "      <td>ENRG</td>\n",
       "      <td>AGRWTH</td>\n",
       "      <td>A</td>\n",
       "      <td>1972</td>\n",
       "      <td>4.910070</td>\n",
       "      <td>NaN</td>\n",
       "    </tr>\n",
       "    <tr>\n",
       "      <th>1</th>\n",
       "      <td>AUS</td>\n",
       "      <td>CPI</td>\n",
       "      <td>ENRG</td>\n",
       "      <td>AGRWTH</td>\n",
       "      <td>A</td>\n",
       "      <td>1973</td>\n",
       "      <td>3.762801</td>\n",
       "      <td>NaN</td>\n",
       "    </tr>\n",
       "    <tr>\n",
       "      <th>2</th>\n",
       "      <td>AUS</td>\n",
       "      <td>CPI</td>\n",
       "      <td>ENRG</td>\n",
       "      <td>AGRWTH</td>\n",
       "      <td>A</td>\n",
       "      <td>1974</td>\n",
       "      <td>13.173540</td>\n",
       "      <td>NaN</td>\n",
       "    </tr>\n",
       "    <tr>\n",
       "      <th>3</th>\n",
       "      <td>AUS</td>\n",
       "      <td>CPI</td>\n",
       "      <td>ENRG</td>\n",
       "      <td>AGRWTH</td>\n",
       "      <td>A</td>\n",
       "      <td>1975</td>\n",
       "      <td>19.422470</td>\n",
       "      <td>NaN</td>\n",
       "    </tr>\n",
       "    <tr>\n",
       "      <th>4</th>\n",
       "      <td>AUS</td>\n",
       "      <td>CPI</td>\n",
       "      <td>ENRG</td>\n",
       "      <td>AGRWTH</td>\n",
       "      <td>A</td>\n",
       "      <td>1976</td>\n",
       "      <td>8.833195</td>\n",
       "      <td>NaN</td>\n",
       "    </tr>\n",
       "  </tbody>\n",
       "</table>\n",
       "</div>"
      ],
      "text/plain": [
       "  LOCATION INDICATOR SUBJECT MEASURE FREQUENCY  TIME        CPI Flag Codes\n",
       "0      AUS       CPI    ENRG  AGRWTH         A  1972   4.910070        NaN\n",
       "1      AUS       CPI    ENRG  AGRWTH         A  1973   3.762801        NaN\n",
       "2      AUS       CPI    ENRG  AGRWTH         A  1974  13.173540        NaN\n",
       "3      AUS       CPI    ENRG  AGRWTH         A  1975  19.422470        NaN\n",
       "4      AUS       CPI    ENRG  AGRWTH         A  1976   8.833195        NaN"
      ]
     },
     "execution_count": 5,
     "metadata": {},
     "output_type": "execute_result"
    }
   ],
   "source": [
    "datfrm.head()"
   ]
  },
  {
   "cell_type": "code",
   "execution_count": 6,
   "metadata": {},
   "outputs": [
    {
     "data": {
      "text/plain": [
       "(293470, 8)"
      ]
     },
     "execution_count": 6,
     "metadata": {},
     "output_type": "execute_result"
    }
   ],
   "source": [
    "datfrm.shape"
   ]
  },
  {
   "cell_type": "code",
   "execution_count": 7,
   "metadata": {},
   "outputs": [
    {
     "data": {
      "text/plain": [
       "Index(['LOCATION', 'INDICATOR', 'SUBJECT', 'MEASURE', 'FREQUENCY', 'TIME',\n",
       "       'CPI', 'Flag Codes'],\n",
       "      dtype='object')"
      ]
     },
     "execution_count": 7,
     "metadata": {},
     "output_type": "execute_result"
    }
   ],
   "source": [
    "datfrm.columns"
   ]
  },
  {
   "cell_type": "code",
   "execution_count": 8,
   "metadata": {},
   "outputs": [
    {
     "data": {
      "text/plain": [
       "LOCATION          52\n",
       "INDICATOR          1\n",
       "SUBJECT            4\n",
       "MEASURE            2\n",
       "FREQUENCY          3\n",
       "TIME            1745\n",
       "CPI           246286\n",
       "Flag Codes         1\n",
       "dtype: int64"
      ]
     },
     "execution_count": 8,
     "metadata": {},
     "output_type": "execute_result"
    }
   ],
   "source": [
    "datfrm.nunique(axis=0)"
   ]
  },
  {
   "attachments": {},
   "cell_type": "markdown",
   "metadata": {},
   "source": [
    "Starting to remove and clean the unecisary colunms from the set."
   ]
  },
  {
   "cell_type": "code",
   "execution_count": 9,
   "metadata": {},
   "outputs": [
    {
     "data": {
      "text/html": [
       "<div>\n",
       "<style scoped>\n",
       "    .dataframe tbody tr th:only-of-type {\n",
       "        vertical-align: middle;\n",
       "    }\n",
       "\n",
       "    .dataframe tbody tr th {\n",
       "        vertical-align: top;\n",
       "    }\n",
       "\n",
       "    .dataframe thead th {\n",
       "        text-align: right;\n",
       "    }\n",
       "</style>\n",
       "<table border=\"1\" class=\"dataframe\">\n",
       "  <thead>\n",
       "    <tr style=\"text-align: right;\">\n",
       "      <th></th>\n",
       "      <th>LOCATION</th>\n",
       "      <th>INDICATOR</th>\n",
       "      <th>SUBJECT</th>\n",
       "      <th>MEASURE</th>\n",
       "      <th>FREQUENCY</th>\n",
       "      <th>TIME</th>\n",
       "      <th>CPI</th>\n",
       "    </tr>\n",
       "  </thead>\n",
       "  <tbody>\n",
       "    <tr>\n",
       "      <th>0</th>\n",
       "      <td>AUS</td>\n",
       "      <td>CPI</td>\n",
       "      <td>ENRG</td>\n",
       "      <td>AGRWTH</td>\n",
       "      <td>A</td>\n",
       "      <td>1972</td>\n",
       "      <td>4.910070</td>\n",
       "    </tr>\n",
       "    <tr>\n",
       "      <th>1</th>\n",
       "      <td>AUS</td>\n",
       "      <td>CPI</td>\n",
       "      <td>ENRG</td>\n",
       "      <td>AGRWTH</td>\n",
       "      <td>A</td>\n",
       "      <td>1973</td>\n",
       "      <td>3.762801</td>\n",
       "    </tr>\n",
       "    <tr>\n",
       "      <th>2</th>\n",
       "      <td>AUS</td>\n",
       "      <td>CPI</td>\n",
       "      <td>ENRG</td>\n",
       "      <td>AGRWTH</td>\n",
       "      <td>A</td>\n",
       "      <td>1974</td>\n",
       "      <td>13.173540</td>\n",
       "    </tr>\n",
       "    <tr>\n",
       "      <th>3</th>\n",
       "      <td>AUS</td>\n",
       "      <td>CPI</td>\n",
       "      <td>ENRG</td>\n",
       "      <td>AGRWTH</td>\n",
       "      <td>A</td>\n",
       "      <td>1975</td>\n",
       "      <td>19.422470</td>\n",
       "    </tr>\n",
       "    <tr>\n",
       "      <th>4</th>\n",
       "      <td>AUS</td>\n",
       "      <td>CPI</td>\n",
       "      <td>ENRG</td>\n",
       "      <td>AGRWTH</td>\n",
       "      <td>A</td>\n",
       "      <td>1976</td>\n",
       "      <td>8.833195</td>\n",
       "    </tr>\n",
       "  </tbody>\n",
       "</table>\n",
       "</div>"
      ],
      "text/plain": [
       "  LOCATION INDICATOR SUBJECT MEASURE FREQUENCY  TIME        CPI\n",
       "0      AUS       CPI    ENRG  AGRWTH         A  1972   4.910070\n",
       "1      AUS       CPI    ENRG  AGRWTH         A  1973   3.762801\n",
       "2      AUS       CPI    ENRG  AGRWTH         A  1974  13.173540\n",
       "3      AUS       CPI    ENRG  AGRWTH         A  1975  19.422470\n",
       "4      AUS       CPI    ENRG  AGRWTH         A  1976   8.833195"
      ]
     },
     "execution_count": 9,
     "metadata": {},
     "output_type": "execute_result"
    }
   ],
   "source": [
    "## drop colunms that arn't needed \n",
    "dat_droped = datfrm.drop( axis=1,columns='Flag Codes')\n",
    "dat_droped.head()"
   ]
  },
  {
   "attachments": {},
   "cell_type": "markdown",
   "metadata": {},
   "source": [
    "because the the country we are most intreseted in is Canada its good place to start and tells us how to restrain \n",
    "all the other countries data to get the best comparison"
   ]
  },
  {
   "cell_type": "code",
   "execution_count": 10,
   "metadata": {},
   "outputs": [
    {
     "data": {
      "text/html": [
       "<div>\n",
       "<style scoped>\n",
       "    .dataframe tbody tr th:only-of-type {\n",
       "        vertical-align: middle;\n",
       "    }\n",
       "\n",
       "    .dataframe tbody tr th {\n",
       "        vertical-align: top;\n",
       "    }\n",
       "\n",
       "    .dataframe thead th {\n",
       "        text-align: right;\n",
       "    }\n",
       "</style>\n",
       "<table border=\"1\" class=\"dataframe\">\n",
       "  <thead>\n",
       "    <tr style=\"text-align: right;\">\n",
       "      <th></th>\n",
       "      <th>LOCATION</th>\n",
       "      <th>INDICATOR</th>\n",
       "      <th>SUBJECT</th>\n",
       "      <th>MEASURE</th>\n",
       "      <th>FREQUENCY</th>\n",
       "      <th>TIME</th>\n",
       "      <th>CPI</th>\n",
       "    </tr>\n",
       "  </thead>\n",
       "  <tbody>\n",
       "    <tr>\n",
       "      <th>518</th>\n",
       "      <td>CAN</td>\n",
       "      <td>CPI</td>\n",
       "      <td>ENRG</td>\n",
       "      <td>AGRWTH</td>\n",
       "      <td>A</td>\n",
       "      <td>1962</td>\n",
       "      <td>-0.436681</td>\n",
       "    </tr>\n",
       "    <tr>\n",
       "      <th>519</th>\n",
       "      <td>CAN</td>\n",
       "      <td>CPI</td>\n",
       "      <td>ENRG</td>\n",
       "      <td>AGRWTH</td>\n",
       "      <td>A</td>\n",
       "      <td>1963</td>\n",
       "      <td>-1.608187</td>\n",
       "    </tr>\n",
       "    <tr>\n",
       "      <th>520</th>\n",
       "      <td>CAN</td>\n",
       "      <td>CPI</td>\n",
       "      <td>ENRG</td>\n",
       "      <td>AGRWTH</td>\n",
       "      <td>A</td>\n",
       "      <td>1964</td>\n",
       "      <td>0.371471</td>\n",
       "    </tr>\n",
       "    <tr>\n",
       "      <th>521</th>\n",
       "      <td>CAN</td>\n",
       "      <td>CPI</td>\n",
       "      <td>ENRG</td>\n",
       "      <td>AGRWTH</td>\n",
       "      <td>A</td>\n",
       "      <td>1965</td>\n",
       "      <td>0.074019</td>\n",
       "    </tr>\n",
       "    <tr>\n",
       "      <th>522</th>\n",
       "      <td>CAN</td>\n",
       "      <td>CPI</td>\n",
       "      <td>ENRG</td>\n",
       "      <td>AGRWTH</td>\n",
       "      <td>A</td>\n",
       "      <td>1966</td>\n",
       "      <td>1.183432</td>\n",
       "    </tr>\n",
       "  </tbody>\n",
       "</table>\n",
       "</div>"
      ],
      "text/plain": [
       "    LOCATION INDICATOR SUBJECT MEASURE FREQUENCY  TIME       CPI\n",
       "518      CAN       CPI    ENRG  AGRWTH         A  1962 -0.436681\n",
       "519      CAN       CPI    ENRG  AGRWTH         A  1963 -1.608187\n",
       "520      CAN       CPI    ENRG  AGRWTH         A  1964  0.371471\n",
       "521      CAN       CPI    ENRG  AGRWTH         A  1965  0.074019\n",
       "522      CAN       CPI    ENRG  AGRWTH         A  1966  1.183432"
      ]
     },
     "execution_count": 10,
     "metadata": {},
     "output_type": "execute_result"
    }
   ],
   "source": [
    "#get canadain stats\n",
    "dat_loc_cpi_CAD = dat_droped[dat_droped['LOCATION'] == 'CAN']\n",
    "dat_loc_cpi_CAD.head()\n",
    "#dat_loc_cpi_CAD.to_csv('./../data/processed/dat_loc_cpi_CAD.csv')"
   ]
  },
  {
   "attachments": {},
   "cell_type": "markdown",
   "metadata": {},
   "source": [
    "because the TIME colunm  has mulitple types we find the one we would like to use \n",
    "and parse it into somthing more user friendly"
   ]
  },
  {
   "cell_type": "code",
   "execution_count": 11,
   "metadata": {},
   "outputs": [
    {
     "data": {
      "text/html": [
       "<div>\n",
       "<style scoped>\n",
       "    .dataframe tbody tr th:only-of-type {\n",
       "        vertical-align: middle;\n",
       "    }\n",
       "\n",
       "    .dataframe tbody tr th {\n",
       "        vertical-align: top;\n",
       "    }\n",
       "\n",
       "    .dataframe thead th {\n",
       "        text-align: right;\n",
       "    }\n",
       "</style>\n",
       "<table border=\"1\" class=\"dataframe\">\n",
       "  <thead>\n",
       "    <tr style=\"text-align: right;\">\n",
       "      <th></th>\n",
       "      <th>TIME</th>\n",
       "      <th>CPI</th>\n",
       "    </tr>\n",
       "  </thead>\n",
       "  <tbody>\n",
       "    <tr>\n",
       "      <th>518</th>\n",
       "      <td>1962</td>\n",
       "      <td>-0.436681</td>\n",
       "    </tr>\n",
       "    <tr>\n",
       "      <th>519</th>\n",
       "      <td>1963</td>\n",
       "      <td>-1.608187</td>\n",
       "    </tr>\n",
       "    <tr>\n",
       "      <th>520</th>\n",
       "      <td>1964</td>\n",
       "      <td>0.371471</td>\n",
       "    </tr>\n",
       "    <tr>\n",
       "      <th>521</th>\n",
       "      <td>1965</td>\n",
       "      <td>0.074019</td>\n",
       "    </tr>\n",
       "    <tr>\n",
       "      <th>522</th>\n",
       "      <td>1966</td>\n",
       "      <td>1.183432</td>\n",
       "    </tr>\n",
       "    <tr>\n",
       "      <th>...</th>\n",
       "      <td>...</td>\n",
       "      <td>...</td>\n",
       "    </tr>\n",
       "    <tr>\n",
       "      <th>197827</th>\n",
       "      <td>Jul-22</td>\n",
       "      <td>118.400400</td>\n",
       "    </tr>\n",
       "    <tr>\n",
       "      <th>197828</th>\n",
       "      <td>Aug-22</td>\n",
       "      <td>118.592100</td>\n",
       "    </tr>\n",
       "    <tr>\n",
       "      <th>197829</th>\n",
       "      <td>Sep-22</td>\n",
       "      <td>119.053200</td>\n",
       "    </tr>\n",
       "    <tr>\n",
       "      <th>197830</th>\n",
       "      <td>Oct-22</td>\n",
       "      <td>119.403400</td>\n",
       "    </tr>\n",
       "    <tr>\n",
       "      <th>197831</th>\n",
       "      <td>Nov-22</td>\n",
       "      <td>119.519100</td>\n",
       "    </tr>\n",
       "  </tbody>\n",
       "</table>\n",
       "<p>9961 rows × 2 columns</p>\n",
       "</div>"
      ],
      "text/plain": [
       "          TIME         CPI\n",
       "518       1962   -0.436681\n",
       "519       1963   -1.608187\n",
       "520       1964    0.371471\n",
       "521       1965    0.074019\n",
       "522       1966    1.183432\n",
       "...        ...         ...\n",
       "197827  Jul-22  118.400400\n",
       "197828  Aug-22  118.592100\n",
       "197829  Sep-22  119.053200\n",
       "197830  Oct-22  119.403400\n",
       "197831  Nov-22  119.519100\n",
       "\n",
       "[9961 rows x 2 columns]"
      ]
     },
     "execution_count": 11,
     "metadata": {},
     "output_type": "execute_result"
    }
   ],
   "source": [
    "#see date format\n",
    "dat2drop = dat_loc_cpi_CAD[['TIME','CPI']]\n",
    "dat2drop.max()\n",
    "\n",
    "dat2drop.reset_index(0)\n",
    "dat2drop.head(-1)"
   ]
  },
  {
   "cell_type": "code",
   "execution_count": 12,
   "metadata": {},
   "outputs": [
    {
     "data": {
      "text/html": [
       "<div>\n",
       "<style scoped>\n",
       "    .dataframe tbody tr th:only-of-type {\n",
       "        vertical-align: middle;\n",
       "    }\n",
       "\n",
       "    .dataframe tbody tr th {\n",
       "        vertical-align: top;\n",
       "    }\n",
       "\n",
       "    .dataframe thead th {\n",
       "        text-align: right;\n",
       "    }\n",
       "</style>\n",
       "<table border=\"1\" class=\"dataframe\">\n",
       "  <thead>\n",
       "    <tr style=\"text-align: right;\">\n",
       "      <th></th>\n",
       "      <th>TIME</th>\n",
       "      <th>CPI</th>\n",
       "    </tr>\n",
       "  </thead>\n",
       "  <tbody>\n",
       "    <tr>\n",
       "      <th>8255</th>\n",
       "      <td>1985-Q1</td>\n",
       "      <td>5.727798</td>\n",
       "    </tr>\n",
       "    <tr>\n",
       "      <th>8499</th>\n",
       "      <td>1985-Q1</td>\n",
       "      <td>3.363454</td>\n",
       "    </tr>\n",
       "    <tr>\n",
       "      <th>8931</th>\n",
       "      <td>1985-Q1</td>\n",
       "      <td>3.621170</td>\n",
       "    </tr>\n",
       "    <tr>\n",
       "      <th>134075</th>\n",
       "      <td>1985-Q1</td>\n",
       "      <td>3.437004</td>\n",
       "    </tr>\n",
       "    <tr>\n",
       "      <th>156050</th>\n",
       "      <td>1985-Q1</td>\n",
       "      <td>44.873150</td>\n",
       "    </tr>\n",
       "    <tr>\n",
       "      <th>156298</th>\n",
       "      <td>1985-Q1</td>\n",
       "      <td>48.610050</td>\n",
       "    </tr>\n",
       "    <tr>\n",
       "      <th>156734</th>\n",
       "      <td>1985-Q1</td>\n",
       "      <td>48.986040</td>\n",
       "    </tr>\n",
       "    <tr>\n",
       "      <th>156982</th>\n",
       "      <td>1985-Q1</td>\n",
       "      <td>49.417770</td>\n",
       "    </tr>\n",
       "  </tbody>\n",
       "</table>\n",
       "</div>"
      ],
      "text/plain": [
       "           TIME        CPI\n",
       "8255    1985-Q1   5.727798\n",
       "8499    1985-Q1   3.363454\n",
       "8931    1985-Q1   3.621170\n",
       "134075  1985-Q1   3.437004\n",
       "156050  1985-Q1  44.873150\n",
       "156298  1985-Q1  48.610050\n",
       "156734  1985-Q1  48.986040\n",
       "156982  1985-Q1  49.417770"
      ]
     },
     "execution_count": 12,
     "metadata": {},
     "output_type": "execute_result"
    }
   ],
   "source": [
    "#dates format changes based on how how far back one goes\n",
    "grouped  = dat2drop.groupby(dat2drop['TIME'])\n",
    "df2 = grouped.get_group('1985-Q1')\n",
    "df2"
   ]
  },
  {
   "attachments": {},
   "cell_type": "markdown",
   "metadata": {},
   "source": [
    "Decided that monthly vlaues were the best as we are wanting to look only at the past 5 or so years\n",
    "we then parse each catagory into thier perspective dates."
   ]
  },
  {
   "cell_type": "code",
   "execution_count": 13,
   "metadata": {},
   "outputs": [
    {
     "data": {
      "text/html": [
       "<div>\n",
       "<style scoped>\n",
       "    .dataframe tbody tr th:only-of-type {\n",
       "        vertical-align: middle;\n",
       "    }\n",
       "\n",
       "    .dataframe tbody tr th {\n",
       "        vertical-align: top;\n",
       "    }\n",
       "\n",
       "    .dataframe thead th {\n",
       "        text-align: right;\n",
       "    }\n",
       "</style>\n",
       "<table border=\"1\" class=\"dataframe\">\n",
       "  <thead>\n",
       "    <tr style=\"text-align: right;\">\n",
       "      <th></th>\n",
       "      <th>LOCATION</th>\n",
       "      <th>INDICATOR</th>\n",
       "      <th>SUBJECT</th>\n",
       "      <th>MEASURE</th>\n",
       "      <th>FREQUENCY</th>\n",
       "      <th>TIME</th>\n",
       "      <th>CPI</th>\n",
       "    </tr>\n",
       "  </thead>\n",
       "  <tbody>\n",
       "    <tr>\n",
       "      <th>114243</th>\n",
       "      <td>CAN</td>\n",
       "      <td>CPI</td>\n",
       "      <td>TOT_FOODENRG</td>\n",
       "      <td>AGRWTH</td>\n",
       "      <td>M</td>\n",
       "      <td>Jan-62</td>\n",
       "      <td>-0.094080</td>\n",
       "    </tr>\n",
       "    <tr>\n",
       "      <th>114244</th>\n",
       "      <td>CAN</td>\n",
       "      <td>CPI</td>\n",
       "      <td>TOT_FOODENRG</td>\n",
       "      <td>AGRWTH</td>\n",
       "      <td>M</td>\n",
       "      <td>Feb-62</td>\n",
       "      <td>-0.094080</td>\n",
       "    </tr>\n",
       "    <tr>\n",
       "      <th>114245</th>\n",
       "      <td>CAN</td>\n",
       "      <td>CPI</td>\n",
       "      <td>TOT_FOODENRG</td>\n",
       "      <td>AGRWTH</td>\n",
       "      <td>M</td>\n",
       "      <td>Mar-62</td>\n",
       "      <td>0.000000</td>\n",
       "    </tr>\n",
       "    <tr>\n",
       "      <th>114246</th>\n",
       "      <td>CAN</td>\n",
       "      <td>CPI</td>\n",
       "      <td>TOT_FOODENRG</td>\n",
       "      <td>AGRWTH</td>\n",
       "      <td>M</td>\n",
       "      <td>Apr-62</td>\n",
       "      <td>0.648302</td>\n",
       "    </tr>\n",
       "    <tr>\n",
       "      <th>114247</th>\n",
       "      <td>CAN</td>\n",
       "      <td>CPI</td>\n",
       "      <td>TOT_FOODENRG</td>\n",
       "      <td>AGRWTH</td>\n",
       "      <td>M</td>\n",
       "      <td>May-62</td>\n",
       "      <td>0.584942</td>\n",
       "    </tr>\n",
       "  </tbody>\n",
       "</table>\n",
       "</div>"
      ],
      "text/plain": [
       "       LOCATION INDICATOR       SUBJECT MEASURE FREQUENCY    TIME       CPI\n",
       "114243      CAN       CPI  TOT_FOODENRG  AGRWTH         M  Jan-62 -0.094080\n",
       "114244      CAN       CPI  TOT_FOODENRG  AGRWTH         M  Feb-62 -0.094080\n",
       "114245      CAN       CPI  TOT_FOODENRG  AGRWTH         M  Mar-62  0.000000\n",
       "114246      CAN       CPI  TOT_FOODENRG  AGRWTH         M  Apr-62  0.648302\n",
       "114247      CAN       CPI  TOT_FOODENRG  AGRWTH         M  May-62  0.584942"
      ]
     },
     "execution_count": 13,
     "metadata": {},
     "output_type": "execute_result"
    }
   ],
   "source": [
    "#Energy\n",
    "group_by_subject_Energy =  dat_loc_cpi_CAD.groupby(dat_loc_cpi_CAD['SUBJECT'])\n",
    "df_g1 = group_by_subject_Energy.get_group('ENRG')\n",
    "df_g1 = df_g1.groupby(df_g1['FREQUENCY']).get_group('M')\n",
    "df_g1 = df_g1.reset_index()\n",
    "df_g1.to_csv('./../data/processed/CAD_energy_to_time.csv')\n",
    "#Food\n",
    "group_by_subject_Food = dat_loc_cpi_CAD.groupby(dat_loc_cpi_CAD['SUBJECT'])\n",
    "df_g2 = group_by_subject_Food.get_group('FOOD')\n",
    "df_g2 = df_g2.groupby(df_g2['FREQUENCY']).get_group(\"M\")\n",
    "df_g2.to_csv('./../data/processed/CAD_food_to_time.csv')\n",
    "\n",
    "#food-energy total\n",
    "group_by_subject_Food_ENRG = dat_loc_cpi_CAD.groupby(dat_loc_cpi_CAD['SUBJECT'])\n",
    "df_g3 = group_by_subject_Food_ENRG.get_group('TOT_FOODENRG')\n",
    "df_g3 = df_g3.groupby(df_g3['FREQUENCY']).get_group(\"M\")\n",
    "df_g3.to_csv('./../data/processed/CAD_food+energy_total_to_time.csv')\n",
    "df_g3.head(5)"
   ]
  },
  {
   "attachments": {},
   "cell_type": "markdown",
   "metadata": {},
   "source": [
    "then Prodceed to Apply new user friendly dates to the three catagories"
   ]
  },
  {
   "cell_type": "code",
   "execution_count": 14,
   "metadata": {},
   "outputs": [
    {
     "data": {
      "text/html": [
       "<div>\n",
       "<style scoped>\n",
       "    .dataframe tbody tr th:only-of-type {\n",
       "        vertical-align: middle;\n",
       "    }\n",
       "\n",
       "    .dataframe tbody tr th {\n",
       "        vertical-align: top;\n",
       "    }\n",
       "\n",
       "    .dataframe thead th {\n",
       "        text-align: right;\n",
       "    }\n",
       "</style>\n",
       "<table border=\"1\" class=\"dataframe\">\n",
       "  <thead>\n",
       "    <tr style=\"text-align: right;\">\n",
       "      <th></th>\n",
       "      <th>LOCATION</th>\n",
       "      <th>INDICATOR</th>\n",
       "      <th>SUBJECT</th>\n",
       "      <th>MEASURE</th>\n",
       "      <th>FREQUENCY</th>\n",
       "      <th>TIME</th>\n",
       "      <th>CPI</th>\n",
       "    </tr>\n",
       "  </thead>\n",
       "  <tbody>\n",
       "    <tr>\n",
       "      <th>114243</th>\n",
       "      <td>CAN</td>\n",
       "      <td>CPI</td>\n",
       "      <td>TOT_FOODENRG</td>\n",
       "      <td>AGRWTH</td>\n",
       "      <td>M</td>\n",
       "      <td>Jan-1962</td>\n",
       "      <td>-0.094080</td>\n",
       "    </tr>\n",
       "    <tr>\n",
       "      <th>114244</th>\n",
       "      <td>CAN</td>\n",
       "      <td>CPI</td>\n",
       "      <td>TOT_FOODENRG</td>\n",
       "      <td>AGRWTH</td>\n",
       "      <td>M</td>\n",
       "      <td>Feb-1962</td>\n",
       "      <td>-0.094080</td>\n",
       "    </tr>\n",
       "    <tr>\n",
       "      <th>114245</th>\n",
       "      <td>CAN</td>\n",
       "      <td>CPI</td>\n",
       "      <td>TOT_FOODENRG</td>\n",
       "      <td>AGRWTH</td>\n",
       "      <td>M</td>\n",
       "      <td>Mar-1962</td>\n",
       "      <td>0.000000</td>\n",
       "    </tr>\n",
       "    <tr>\n",
       "      <th>114246</th>\n",
       "      <td>CAN</td>\n",
       "      <td>CPI</td>\n",
       "      <td>TOT_FOODENRG</td>\n",
       "      <td>AGRWTH</td>\n",
       "      <td>M</td>\n",
       "      <td>Apr-1962</td>\n",
       "      <td>0.648302</td>\n",
       "    </tr>\n",
       "    <tr>\n",
       "      <th>114247</th>\n",
       "      <td>CAN</td>\n",
       "      <td>CPI</td>\n",
       "      <td>TOT_FOODENRG</td>\n",
       "      <td>AGRWTH</td>\n",
       "      <td>M</td>\n",
       "      <td>May-1962</td>\n",
       "      <td>0.584942</td>\n",
       "    </tr>\n",
       "  </tbody>\n",
       "</table>\n",
       "</div>"
      ],
      "text/plain": [
       "       LOCATION INDICATOR       SUBJECT MEASURE FREQUENCY      TIME       CPI\n",
       "114243      CAN       CPI  TOT_FOODENRG  AGRWTH         M  Jan-1962 -0.094080\n",
       "114244      CAN       CPI  TOT_FOODENRG  AGRWTH         M  Feb-1962 -0.094080\n",
       "114245      CAN       CPI  TOT_FOODENRG  AGRWTH         M  Mar-1962  0.000000\n",
       "114246      CAN       CPI  TOT_FOODENRG  AGRWTH         M  Apr-1962  0.648302\n",
       "114247      CAN       CPI  TOT_FOODENRG  AGRWTH         M  May-1962  0.584942"
      ]
     },
     "execution_count": 14,
     "metadata": {},
     "output_type": "execute_result"
    }
   ],
   "source": [
    "import code10.Methods as mt\n",
    "#energy\n",
    "df_g1[\"TIME\"] = mt._convertDateTime(df_g1[\"TIME\"])\n",
    "df_g1\n",
    "\n",
    "#food\n",
    "df_g2['TIME'] = mt._convertDateTime(df_g2['TIME'])\n",
    "df_g2\n",
    "\n",
    "#total food-energy\n",
    "df_g3['TIME'] = mt._convertDateTime(df_g3['TIME'])\n",
    "df_g3.head(5)"
   ]
  },
  {
   "attachments": {},
   "cell_type": "markdown",
   "metadata": {},
   "source": [
    "The retreuve the last five years for each of the intreseted catagories food energy and the sum of both"
   ]
  },
  {
   "cell_type": "code",
   "execution_count": 15,
   "metadata": {},
   "outputs": [
    {
     "name": "stderr",
     "output_type": "stream",
     "text": [
      "c:\\Users\\Levi\\Desktop\\DATA301\\project-group-group19\\analysis\\code10\\Methods.py:129: SettingWithCopyWarning: \n",
      "A value is trying to be set on a copy of a slice from a DataFrame.\n",
      "Try using .loc[row_indexer,col_indexer] = value instead\n",
      "\n",
      "See the caveats in the documentation: https://pandas.pydata.org/pandas-docs/stable/user_guide/indexing.html#returning-a-view-versus-a-copy\n",
      "  filtered_df['date'] = filtered_df['date'].dt.strftime('%b-%Y')\n",
      "c:\\Users\\Levi\\Desktop\\DATA301\\project-group-group19\\analysis\\code10\\Methods.py:131: SettingWithCopyWarning: \n",
      "A value is trying to be set on a copy of a slice from a DataFrame\n",
      "\n",
      "See the caveats in the documentation: https://pandas.pydata.org/pandas-docs/stable/user_guide/indexing.html#returning-a-view-versus-a-copy\n",
      "  filtered_df.drop('date', axis=1, inplace=True)\n",
      "c:\\Users\\Levi\\Desktop\\DATA301\\project-group-group19\\analysis\\code10\\Methods.py:129: SettingWithCopyWarning: \n",
      "A value is trying to be set on a copy of a slice from a DataFrame.\n",
      "Try using .loc[row_indexer,col_indexer] = value instead\n",
      "\n",
      "See the caveats in the documentation: https://pandas.pydata.org/pandas-docs/stable/user_guide/indexing.html#returning-a-view-versus-a-copy\n",
      "  filtered_df['date'] = filtered_df['date'].dt.strftime('%b-%Y')\n",
      "c:\\Users\\Levi\\Desktop\\DATA301\\project-group-group19\\analysis\\code10\\Methods.py:131: SettingWithCopyWarning: \n",
      "A value is trying to be set on a copy of a slice from a DataFrame\n",
      "\n",
      "See the caveats in the documentation: https://pandas.pydata.org/pandas-docs/stable/user_guide/indexing.html#returning-a-view-versus-a-copy\n",
      "  filtered_df.drop('date', axis=1, inplace=True)\n",
      "c:\\Users\\Levi\\Desktop\\DATA301\\project-group-group19\\analysis\\code10\\Methods.py:129: SettingWithCopyWarning: \n",
      "A value is trying to be set on a copy of a slice from a DataFrame.\n",
      "Try using .loc[row_indexer,col_indexer] = value instead\n",
      "\n",
      "See the caveats in the documentation: https://pandas.pydata.org/pandas-docs/stable/user_guide/indexing.html#returning-a-view-versus-a-copy\n",
      "  filtered_df['date'] = filtered_df['date'].dt.strftime('%b-%Y')\n",
      "c:\\Users\\Levi\\Desktop\\DATA301\\project-group-group19\\analysis\\code10\\Methods.py:131: SettingWithCopyWarning: \n",
      "A value is trying to be set on a copy of a slice from a DataFrame\n",
      "\n",
      "See the caveats in the documentation: https://pandas.pydata.org/pandas-docs/stable/user_guide/indexing.html#returning-a-view-versus-a-copy\n",
      "  filtered_df.drop('date', axis=1, inplace=True)\n"
     ]
    }
   ],
   "source": [
    "#get last 4 years\n",
    "#it should show the genral trend\n",
    "graph_l4_Energy = mt._extract_data_by_year(df_g1,start_year=2018)\n",
    "graph_l4_Food = mt._extract_data_by_year(df_g2,start_year=2018)\n",
    "graph_l4_tot_food_Energy = mt._extract_data_by_year(df_g3,start_year=2018)\n"
   ]
  },
  {
   "attachments": {},
   "cell_type": "markdown",
   "metadata": {},
   "source": [
    "Between the Food Energy this tells us that Canada Energy sector has a large impact in comparision to the food catagory."
   ]
  },
  {
   "cell_type": "code",
   "execution_count": 26,
   "metadata": {},
   "outputs": [
    {
     "name": "stderr",
     "output_type": "stream",
     "text": [
      "C:\\Users\\Levi\\AppData\\Local\\Temp\\ipykernel_38992\\2931089017.py:6: UserWarning: FixedFormatter should only be used together with FixedLocator\n",
      "  inlaftion_rate_plot.set_xticklabels(length)\n"
     ]
    },
    {
     "data": {
      "text/plain": [
       "[Text(0.5, 0, 'Date'),\n",
       " Text(0, 0.5, ' CPI value'),\n",
       " Text(0.5, 1.0, ' Canadain Energy Sector CPI from 2018-2022')]"
      ]
     },
     "execution_count": 26,
     "metadata": {},
     "output_type": "execute_result"
    },
    {
     "data": {
      "image/png": "[encoded data removed]",
      "text/plain": [
       "<Figure size 640x480 with 1 Axes>"
      ]
     },
     "metadata": {},
     "output_type": "display_data"
    }
   ],
   "source": [
    "#plot Engery\n",
    "inlaftion_rate_plot = sns.lineplot(graph_l4_Energy, y='CPI',x='TIME')\n",
    "bars = (2018,2019,2020,2021,2022)\n",
    "pos = np.arange(len(bars))\n",
    "length = [0,12,24,36,48]\n",
    "inlaftion_rate_plot.set_xticklabels(length)\n",
    "inlaftion_rate_plot.set_ylim([0,170])\n",
    "plt.xticks(length,bars)\n",
    "inlaftion_rate_plot.set(xlabel=\"Date\",ylabel=\" CPI value\", title=' Canadain Energy Sector CPI from 2018-2022')\n",
    "#energy is fairly volitile with a high peek."
   ]
  },
  {
   "cell_type": "code",
   "execution_count": 25,
   "metadata": {},
   "outputs": [
    {
     "name": "stderr",
     "output_type": "stream",
     "text": [
      "C:\\Users\\Levi\\AppData\\Local\\Temp\\ipykernel_38992\\2266417701.py:6: UserWarning: FixedFormatter should only be used together with FixedLocator\n",
      "  inlaftion_rate_plot.set_xticklabels(length)\n"
     ]
    },
    {
     "data": {
      "text/plain": [
       "[Text(0.5, 0, 'Date'),\n",
       " Text(0, 0.5, ' CPI value'),\n",
       " Text(0.5, 1.0, ' Canadain Food Sector CPI from 2018-2022')]"
      ]
     },
     "execution_count": 25,
     "metadata": {},
     "output_type": "execute_result"
    },
    {
     "data": {
      "image/png": "[encoded data removed]",
      "text/plain": [
       "<Figure size 640x480 with 1 Axes>"
      ]
     },
     "metadata": {},
     "output_type": "display_data"
    }
   ],
   "source": [
    "#plot Food\n",
    "inlaftion_rate_plot = sns.lineplot(graph_l4_Food, y='CPI',x='TIME')\n",
    "bars = (2018,2019,2020,2021,2022)\n",
    "pos = np.arange(len(bars))\n",
    "length = [0,12,24,36,48]\n",
    "inlaftion_rate_plot.set_xticklabels(length)\n",
    "inlaftion_rate_plot.set_ylim([0,170])\n",
    "plt.xticks(length,bars)\n",
    "inlaftion_rate_plot.set(xlabel=\"Date\",ylabel=\" CPI value\", title=' Canadain Food Sector CPI from 2018-2022')"
   ]
  },
  {
   "cell_type": "code",
   "execution_count": 23,
   "metadata": {},
   "outputs": [
    {
     "name": "stderr",
     "output_type": "stream",
     "text": [
      "C:\\Users\\Levi\\AppData\\Local\\Temp\\ipykernel_38992\\594455331.py:6: UserWarning: FixedFormatter should only be used together with FixedLocator\n",
      "  inlaftion_rate_plot.set_xticklabels(length)\n"
     ]
    },
    {
     "data": {
      "text/plain": [
       "[Text(0.5, 0, 'Date'),\n",
       " Text(0, 0.5, ' CPI value'),\n",
       " Text(0.5, 1.0, ' Canadain total of Food to Energy Sector CPI from 2018-2022')]"
      ]
     },
     "execution_count": 23,
     "metadata": {},
     "output_type": "execute_result"
    },
    {
     "data": {
      "image/png": "[encoded data removed]",
      "text/plain": [
       "<Figure size 640x480 with 1 Axes>"
      ]
     },
     "metadata": {},
     "output_type": "display_data"
    }
   ],
   "source": [
    "#plot total Food-energy\n",
    "inlaftion_rate_plot = sns.lineplot(graph_l4_tot_food_Energy, y='CPI',x='TIME')\n",
    "bars = (2018,2019,2020,2021,2022)\n",
    "pos = np.arange(len(bars))\n",
    "length = [0,12,24,36,48]\n",
    "inlaftion_rate_plot.set_xticklabels(length)\n",
    "inlaftion_rate_plot.set_ylim([0,170])\n",
    "plt.xticks(length,bars)\n",
    "inlaftion_rate_plot.set(xlabel=\"Date\",ylabel=\" CPI value\", title=' Canadain total of Food to Energy Sector CPI from 2018-2022')"
   ]
  },
  {
   "cell_type": "code",
   "execution_count": null,
   "metadata": {},
   "outputs": [],
   "source": [
    "from code10 import Methods as mt\n",
    "import importlib\n"
   ]
  },
  {
   "cell_type": "markdown",
   "metadata": {},
   "source": []
  },
  {
   "cell_type": "code",
   "execution_count": null,
   "metadata": {},
   "outputs": [
    {
     "name": "stderr",
     "output_type": "stream",
     "text": [
      "c:\\Users\\Levi\\Desktop\\DATA301\\project-group-group19\\analysis\\code10\\Methods.py:129: SettingWithCopyWarning: \n",
      "A value is trying to be set on a copy of a slice from a DataFrame.\n",
      "Try using .loc[row_indexer,col_indexer] = value instead\n",
      "\n",
      "See the caveats in the documentation: https://pandas.pydata.org/pandas-docs/stable/user_guide/indexing.html#returning-a-view-versus-a-copy\n",
      "  filtered_df['date'] = filtered_df['date'].dt.strftime('%b-%Y')\n",
      "c:\\Users\\Levi\\Desktop\\DATA301\\project-group-group19\\analysis\\code10\\Methods.py:131: SettingWithCopyWarning: \n",
      "A value is trying to be set on a copy of a slice from a DataFrame\n",
      "\n",
      "See the caveats in the documentation: https://pandas.pydata.org/pandas-docs/stable/user_guide/indexing.html#returning-a-view-versus-a-copy\n",
      "  filtered_df.drop('date', axis=1, inplace=True)\n",
      "c:\\Users\\Levi\\Desktop\\DATA301\\project-group-group19\\analysis\\code10\\Methods.py:129: SettingWithCopyWarning: \n",
      "A value is trying to be set on a copy of a slice from a DataFrame.\n",
      "Try using .loc[row_indexer,col_indexer] = value instead\n",
      "\n",
      "See the caveats in the documentation: https://pandas.pydata.org/pandas-docs/stable/user_guide/indexing.html#returning-a-view-versus-a-copy\n",
      "  filtered_df['date'] = filtered_df['date'].dt.strftime('%b-%Y')\n",
      "c:\\Users\\Levi\\Desktop\\DATA301\\project-group-group19\\analysis\\code10\\Methods.py:131: SettingWithCopyWarning: \n",
      "A value is trying to be set on a copy of a slice from a DataFrame\n",
      "\n",
      "See the caveats in the documentation: https://pandas.pydata.org/pandas-docs/stable/user_guide/indexing.html#returning-a-view-versus-a-copy\n",
      "  filtered_df.drop('date', axis=1, inplace=True)\n",
      "c:\\Users\\Levi\\Desktop\\DATA301\\project-group-group19\\analysis\\code10\\Methods.py:129: SettingWithCopyWarning: \n",
      "A value is trying to be set on a copy of a slice from a DataFrame.\n",
      "Try using .loc[row_indexer,col_indexer] = value instead\n",
      "\n",
      "See the caveats in the documentation: https://pandas.pydata.org/pandas-docs/stable/user_guide/indexing.html#returning-a-view-versus-a-copy\n",
      "  filtered_df['date'] = filtered_df['date'].dt.strftime('%b-%Y')\n",
      "c:\\Users\\Levi\\Desktop\\DATA301\\project-group-group19\\analysis\\code10\\Methods.py:131: SettingWithCopyWarning: \n",
      "A value is trying to be set on a copy of a slice from a DataFrame\n",
      "\n",
      "See the caveats in the documentation: https://pandas.pydata.org/pandas-docs/stable/user_guide/indexing.html#returning-a-view-versus-a-copy\n",
      "  filtered_df.drop('date', axis=1, inplace=True)\n",
      "c:\\Users\\Levi\\Desktop\\DATA301\\project-group-group19\\analysis\\code10\\Methods.py:129: SettingWithCopyWarning: \n",
      "A value is trying to be set on a copy of a slice from a DataFrame.\n",
      "Try using .loc[row_indexer,col_indexer] = value instead\n",
      "\n",
      "See the caveats in the documentation: https://pandas.pydata.org/pandas-docs/stable/user_guide/indexing.html#returning-a-view-versus-a-copy\n",
      "  filtered_df['date'] = filtered_df['date'].dt.strftime('%b-%Y')\n",
      "c:\\Users\\Levi\\Desktop\\DATA301\\project-group-group19\\analysis\\code10\\Methods.py:131: SettingWithCopyWarning: \n",
      "A value is trying to be set on a copy of a slice from a DataFrame\n",
      "\n",
      "See the caveats in the documentation: https://pandas.pydata.org/pandas-docs/stable/user_guide/indexing.html#returning-a-view-versus-a-copy\n",
      "  filtered_df.drop('date', axis=1, inplace=True)\n",
      "c:\\Users\\Levi\\Desktop\\DATA301\\project-group-group19\\analysis\\code10\\Methods.py:129: SettingWithCopyWarning: \n",
      "A value is trying to be set on a copy of a slice from a DataFrame.\n",
      "Try using .loc[row_indexer,col_indexer] = value instead\n",
      "\n",
      "See the caveats in the documentation: https://pandas.pydata.org/pandas-docs/stable/user_guide/indexing.html#returning-a-view-versus-a-copy\n",
      "  filtered_df['date'] = filtered_df['date'].dt.strftime('%b-%Y')\n",
      "c:\\Users\\Levi\\Desktop\\DATA301\\project-group-group19\\analysis\\code10\\Methods.py:131: SettingWithCopyWarning: \n",
      "A value is trying to be set on a copy of a slice from a DataFrame\n",
      "\n",
      "See the caveats in the documentation: https://pandas.pydata.org/pandas-docs/stable/user_guide/indexing.html#returning-a-view-versus-a-copy\n",
      "  filtered_df.drop('date', axis=1, inplace=True)\n"
     ]
    },
    {
     "name": "stdout",
     "output_type": "stream",
     "text": [
      "CAN_ENRG_2018to2022\n",
      "CAN_FOOD_2018to2022\n",
      "CAN_TOT_2018to2022\n",
      "USA_ENRG_2018to2022\n",
      "USA_FOOD_2018to2022\n",
      "USA_TOT_2018to2022\n"
     ]
    },
    {
     "name": "stderr",
     "output_type": "stream",
     "text": [
      "c:\\Users\\Levi\\Desktop\\DATA301\\project-group-group19\\analysis\\code10\\Methods.py:129: SettingWithCopyWarning: \n",
      "A value is trying to be set on a copy of a slice from a DataFrame.\n",
      "Try using .loc[row_indexer,col_indexer] = value instead\n",
      "\n",
      "See the caveats in the documentation: https://pandas.pydata.org/pandas-docs/stable/user_guide/indexing.html#returning-a-view-versus-a-copy\n",
      "  filtered_df['date'] = filtered_df['date'].dt.strftime('%b-%Y')\n",
      "c:\\Users\\Levi\\Desktop\\DATA301\\project-group-group19\\analysis\\code10\\Methods.py:131: SettingWithCopyWarning: \n",
      "A value is trying to be set on a copy of a slice from a DataFrame\n",
      "\n",
      "See the caveats in the documentation: https://pandas.pydata.org/pandas-docs/stable/user_guide/indexing.html#returning-a-view-versus-a-copy\n",
      "  filtered_df.drop('date', axis=1, inplace=True)\n",
      "c:\\Users\\Levi\\Desktop\\DATA301\\project-group-group19\\analysis\\code10\\Methods.py:129: SettingWithCopyWarning: \n",
      "A value is trying to be set on a copy of a slice from a DataFrame.\n",
      "Try using .loc[row_indexer,col_indexer] = value instead\n",
      "\n",
      "See the caveats in the documentation: https://pandas.pydata.org/pandas-docs/stable/user_guide/indexing.html#returning-a-view-versus-a-copy\n",
      "  filtered_df['date'] = filtered_df['date'].dt.strftime('%b-%Y')\n",
      "c:\\Users\\Levi\\Desktop\\DATA301\\project-group-group19\\analysis\\code10\\Methods.py:131: SettingWithCopyWarning: \n",
      "A value is trying to be set on a copy of a slice from a DataFrame\n",
      "\n",
      "See the caveats in the documentation: https://pandas.pydata.org/pandas-docs/stable/user_guide/indexing.html#returning-a-view-versus-a-copy\n",
      "  filtered_df.drop('date', axis=1, inplace=True)\n",
      "c:\\Users\\Levi\\Desktop\\DATA301\\project-group-group19\\analysis\\code10\\Methods.py:129: SettingWithCopyWarning: \n",
      "A value is trying to be set on a copy of a slice from a DataFrame.\n",
      "Try using .loc[row_indexer,col_indexer] = value instead\n",
      "\n",
      "See the caveats in the documentation: https://pandas.pydata.org/pandas-docs/stable/user_guide/indexing.html#returning-a-view-versus-a-copy\n",
      "  filtered_df['date'] = filtered_df['date'].dt.strftime('%b-%Y')\n",
      "c:\\Users\\Levi\\Desktop\\DATA301\\project-group-group19\\analysis\\code10\\Methods.py:131: SettingWithCopyWarning: \n",
      "A value is trying to be set on a copy of a slice from a DataFrame\n",
      "\n",
      "See the caveats in the documentation: https://pandas.pydata.org/pandas-docs/stable/user_guide/indexing.html#returning-a-view-versus-a-copy\n",
      "  filtered_df.drop('date', axis=1, inplace=True)\n",
      "c:\\Users\\Levi\\Desktop\\DATA301\\project-group-group19\\analysis\\code10\\Methods.py:129: SettingWithCopyWarning: \n",
      "A value is trying to be set on a copy of a slice from a DataFrame.\n",
      "Try using .loc[row_indexer,col_indexer] = value instead\n",
      "\n",
      "See the caveats in the documentation: https://pandas.pydata.org/pandas-docs/stable/user_guide/indexing.html#returning-a-view-versus-a-copy\n",
      "  filtered_df['date'] = filtered_df['date'].dt.strftime('%b-%Y')\n",
      "c:\\Users\\Levi\\Desktop\\DATA301\\project-group-group19\\analysis\\code10\\Methods.py:131: SettingWithCopyWarning: \n",
      "A value is trying to be set on a copy of a slice from a DataFrame\n",
      "\n",
      "See the caveats in the documentation: https://pandas.pydata.org/pandas-docs/stable/user_guide/indexing.html#returning-a-view-versus-a-copy\n",
      "  filtered_df.drop('date', axis=1, inplace=True)\n",
      "c:\\Users\\Levi\\Desktop\\DATA301\\project-group-group19\\analysis\\code10\\Methods.py:129: SettingWithCopyWarning: \n",
      "A value is trying to be set on a copy of a slice from a DataFrame.\n",
      "Try using .loc[row_indexer,col_indexer] = value instead\n",
      "\n",
      "See the caveats in the documentation: https://pandas.pydata.org/pandas-docs/stable/user_guide/indexing.html#returning-a-view-versus-a-copy\n",
      "  filtered_df['date'] = filtered_df['date'].dt.strftime('%b-%Y')\n",
      "c:\\Users\\Levi\\Desktop\\DATA301\\project-group-group19\\analysis\\code10\\Methods.py:131: SettingWithCopyWarning: \n",
      "A value is trying to be set on a copy of a slice from a DataFrame\n",
      "\n",
      "See the caveats in the documentation: https://pandas.pydata.org/pandas-docs/stable/user_guide/indexing.html#returning-a-view-versus-a-copy\n",
      "  filtered_df.drop('date', axis=1, inplace=True)\n"
     ]
    },
    {
     "name": "stdout",
     "output_type": "stream",
     "text": [
      "G-7_ENRG_2018to2022\n",
      "G-7_FOOD_2018to2022\n",
      "G-7_TOT_2018to2022\n",
      "AUS_ENRG_2018to2022\n",
      "AUS_FOOD_2018to2022\n",
      "AUS_TOT_2018to2022\n",
      "BEL_ENRG_2018to2022\n",
      "BEL_FOOD_2018to2022\n",
      "BEL_TOT_2018to2022\n"
     ]
    },
    {
     "name": "stderr",
     "output_type": "stream",
     "text": [
      "c:\\Users\\Levi\\Desktop\\DATA301\\project-group-group19\\analysis\\code10\\Methods.py:129: SettingWithCopyWarning: \n",
      "A value is trying to be set on a copy of a slice from a DataFrame.\n",
      "Try using .loc[row_indexer,col_indexer] = value instead\n",
      "\n",
      "See the caveats in the documentation: https://pandas.pydata.org/pandas-docs/stable/user_guide/indexing.html#returning-a-view-versus-a-copy\n",
      "  filtered_df['date'] = filtered_df['date'].dt.strftime('%b-%Y')\n",
      "c:\\Users\\Levi\\Desktop\\DATA301\\project-group-group19\\analysis\\code10\\Methods.py:131: SettingWithCopyWarning: \n",
      "A value is trying to be set on a copy of a slice from a DataFrame\n",
      "\n",
      "See the caveats in the documentation: https://pandas.pydata.org/pandas-docs/stable/user_guide/indexing.html#returning-a-view-versus-a-copy\n",
      "  filtered_df.drop('date', axis=1, inplace=True)\n",
      "c:\\Users\\Levi\\Desktop\\DATA301\\project-group-group19\\analysis\\code10\\Methods.py:129: SettingWithCopyWarning: \n",
      "A value is trying to be set on a copy of a slice from a DataFrame.\n",
      "Try using .loc[row_indexer,col_indexer] = value instead\n",
      "\n",
      "See the caveats in the documentation: https://pandas.pydata.org/pandas-docs/stable/user_guide/indexing.html#returning-a-view-versus-a-copy\n",
      "  filtered_df['date'] = filtered_df['date'].dt.strftime('%b-%Y')\n",
      "c:\\Users\\Levi\\Desktop\\DATA301\\project-group-group19\\analysis\\code10\\Methods.py:131: SettingWithCopyWarning: \n",
      "A value is trying to be set on a copy of a slice from a DataFrame\n",
      "\n",
      "See the caveats in the documentation: https://pandas.pydata.org/pandas-docs/stable/user_guide/indexing.html#returning-a-view-versus-a-copy\n",
      "  filtered_df.drop('date', axis=1, inplace=True)\n",
      "c:\\Users\\Levi\\Desktop\\DATA301\\project-group-group19\\analysis\\code10\\Methods.py:129: SettingWithCopyWarning: \n",
      "A value is trying to be set on a copy of a slice from a DataFrame.\n",
      "Try using .loc[row_indexer,col_indexer] = value instead\n",
      "\n",
      "See the caveats in the documentation: https://pandas.pydata.org/pandas-docs/stable/user_guide/indexing.html#returning-a-view-versus-a-copy\n",
      "  filtered_df['date'] = filtered_df['date'].dt.strftime('%b-%Y')\n",
      "c:\\Users\\Levi\\Desktop\\DATA301\\project-group-group19\\analysis\\code10\\Methods.py:131: SettingWithCopyWarning: \n",
      "A value is trying to be set on a copy of a slice from a DataFrame\n",
      "\n",
      "See the caveats in the documentation: https://pandas.pydata.org/pandas-docs/stable/user_guide/indexing.html#returning-a-view-versus-a-copy\n",
      "  filtered_df.drop('date', axis=1, inplace=True)\n"
     ]
    }
   ],
   "source": [
    "\n",
    "dfg = mt.load('./../data/raw/Inflationdataset.csv')\n",
    "dfgg = mt.extract_data(dfg, 'BEL','FOOD')\n",
    "#main ones\n",
    "countries = ['CAN','USA','G-7','AUS','BEL']\n",
    "#trying to get all of them to make a country dashboard\n",
    "# keep runing into error though\n",
    "#dfg['LOCATION'].unique()\n",
    "\n",
    "for location in countries :\n",
    "    for type_cpi in ['ENRG', 'FOOD' ,'TOT']:      \n",
    "            ddf = mt.extract_data(dfg, location,type_cpi)\n",
    "            if ddf is not None:\n",
    "                mt.save(ddf, f\"{location}_{type_cpi}_2018to2022\")\n",
    "                print(f\"{location}_{type_cpi}_2018to2022\")\n"
   ]
  },
  {
   "attachments": {},
   "cell_type": "markdown",
   "metadata": {},
   "source": [
    "In light of finding tablaeu's world plot feature; decided to keep all the countries and format them all similar to the canidain one above however we include as many possible date instead of just the last 5 years. in doing so we have all the data we need to compelete a dashboard and like wise a cool complex world graph. "
   ]
  },
  {
   "cell_type": "code",
   "execution_count": null,
   "metadata": {},
   "outputs": [],
   "source": [
    "importlib.reload(mt)\n",
    "dd = mt.dateAll(dfg)\n",
    "mt.save(dd,\"all_countries_date_by_month_year\")"
   ]
  },
  {
   "attachments": {},
   "cell_type": "markdown",
   "metadata": {},
   "source": [
    "In the dashboard which is not in the videa explanation we take advantage of the function feature allowing us to calculate the change in % inflation using the follwing formaula dynamically as the time slider changes.\n",
    "\n",
    "``` (SUM([Value])- LOOKUP(SUM([Value]),-1))/LOOKUP(SUM([Value]),-1) ```\n",
    "\n",
    "this formula is the standard inflation ratio. and because are data is in the range of months it calculate the change in inflation from one month to the next.\n"
   ]
  },
  {
   "attachments": {},
   "cell_type": "markdown",
   "metadata": {},
   "source": [
    "The Follpwing Graph Below Calculates the Total CPI and distrubutes acriss the graph limiting the data to only within the last five years."
   ]
  },
  {
   "cell_type": "code",
   "execution_count": null,
   "metadata": {},
   "outputs": [
    {
     "data": {
      "text/plain": [
       "Text(0.5, 1.0, 'CPI per country over the last 5 Years')"
      ]
     },
     "execution_count": 69,
     "metadata": {},
     "output_type": "execute_result"
    },
    {
     "data": {
      "image/png": "[encoded data removed]",
      "text/plain": [
       "<Figure size 640x480 with 1 Axes>"
      ]
     },
     "metadata": {},
     "output_type": "display_data"
    }
   ],
   "source": [
    "import importlib\n",
    "importlib.reload(mt)\n",
    "df_CAD= mt.load('../data/processed/wrangled/CAN_TOT_2018to2022.csv')\n",
    "df_AUT= mt.load('../data/processed/wrangled/BEL_TOT_2018to2022.csv')\n",
    "df_G7=  mt.load('../data/processed/wrangled/G-7_TOT_2018to2022.csv')\n",
    "df_USA=  mt.load('../data/processed/wrangled/USA_TOT_2018to2022.csv')\n",
    "df = pd.concat([df_CAD, df_AUT,df_G7,df_USA], ignore_index=True).reset_index(drop=True)\n",
    "plot = sns.violinplot(df,x=\"Value\", y=\"LOCATION\")\n",
    "plot.set_xlabel(\"CPI\")\n",
    "plot.set_ylabel(\"\")\n",
    "plot.set_title(\"CPI per country over the last 5 Years\")"
   ]
  }
 ],
 "metadata": {
  "kernelspec": {
   "display_name": "Python 3",
   "language": "python",
   "name": "python3"
  },
  "language_info": {
   "codemirror_mode": {
    "name": "ipython",
    "version": 3
   },
   "file_extension": ".py",
   "mimetype": "text/x-python",
   "name": "python",
   "nbconvert_exporter": "python",
   "pygments_lexer": "ipython3",
   "version": "3.10.8"
  },
  "vscode": {
   "interpreter": {
    "hash": "0c75692c4415e9da6be2c1ec0a37189bdc5416410a696199a9a6763467308c54"
   }
  }
 },
 "nbformat": 4,
 "nbformat_minor": 4
}
