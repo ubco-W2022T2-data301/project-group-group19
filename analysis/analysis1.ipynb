{
 "cells": [
  {
   "cell_type": "markdown",
   "metadata": {},
   "source": [
    "# Dylan Saunders"
   ]
  },
  {
   "cell_type": "code",
   "execution_count": null,
   "metadata": {},
   "outputs": [
    {
     "name": "stdout",
     "output_type": "stream",
     "text": [
      "         LOCATION INDICATOR       SUBJECT  MEASURE FREQUENCY    TIME  \\\n",
      "0             AUS       CPI          ENRG   AGRWTH         A    1972   \n",
      "1             AUS       CPI          ENRG   AGRWTH         A    1973   \n",
      "2             AUS       CPI          ENRG   AGRWTH         A    1974   \n",
      "3             AUS       CPI          ENRG   AGRWTH         A    1975   \n",
      "4             AUS       CPI          ENRG   AGRWTH         A    1976   \n",
      "...           ...       ...           ...      ...       ...     ...   \n",
      "293465  EU27_2020       CPI  TOT_FOODENRG  IDX2015         M  Aug-22   \n",
      "293466  EU27_2020       CPI  TOT_FOODENRG  IDX2015         M  Sep-22   \n",
      "293467  EU27_2020       CPI  TOT_FOODENRG  IDX2015         M  Oct-22   \n",
      "293468  EU27_2020       CPI  TOT_FOODENRG  IDX2015         M  Nov-22   \n",
      "293469  EU27_2020       CPI  TOT_FOODENRG  IDX2015         M  Dec-22   \n",
      "\n",
      "             Value Flag Codes  \n",
      "0         4.910070        NaN  \n",
      "1         3.762801        NaN  \n",
      "2        13.173540        NaN  \n",
      "3        19.422470        NaN  \n",
      "4         8.833195        NaN  \n",
      "...            ...        ...  \n",
      "293465  112.760000        NaN  \n",
      "293466  113.830000        NaN  \n",
      "293467  114.560000        NaN  \n",
      "293468  114.690000        NaN  \n",
      "293469  115.380000        NaN  \n",
      "\n",
      "[293470 rows x 8 columns]\n"
     ]
    }
   ],
   "source": [
    "import pandas as pd\n",
    "import numpy as np\n",
    "import matplotlib\n",
    "import matplotlib.pyplot as plt\n",
    "import seaborn as sns\n",
    "import matplotlib.axes as ax\n",
    "df = pd.read_csv('./../data/raw/Inflationdataset.csv')\n",
    "print(df)\n"
   ]
  },
  {
   "cell_type": "code",
   "execution_count": null,
   "metadata": {},
   "outputs": [
    {
     "name": "stdout",
     "output_type": "stream",
     "text": [
      "         LOCATION INDICATOR       SUBJECT  MEASURE    TIME       Value\n",
      "0             AUS       CPI          ENRG   AGRWTH    1972    4.910070\n",
      "1             AUS       CPI          ENRG   AGRWTH    1973    3.762801\n",
      "2             AUS       CPI          ENRG   AGRWTH    1974   13.173540\n",
      "3             AUS       CPI          ENRG   AGRWTH    1975   19.422470\n",
      "4             AUS       CPI          ENRG   AGRWTH    1976    8.833195\n",
      "...           ...       ...           ...      ...     ...         ...\n",
      "293465  EU27_2020       CPI  TOT_FOODENRG  IDX2015  Aug-22  112.760000\n",
      "293466  EU27_2020       CPI  TOT_FOODENRG  IDX2015  Sep-22  113.830000\n",
      "293467  EU27_2020       CPI  TOT_FOODENRG  IDX2015  Oct-22  114.560000\n",
      "293468  EU27_2020       CPI  TOT_FOODENRG  IDX2015  Nov-22  114.690000\n",
      "293469  EU27_2020       CPI  TOT_FOODENRG  IDX2015  Dec-22  115.380000\n",
      "\n",
      "[293470 rows x 6 columns]\n"
     ]
    }
   ],
   "source": [
    "df.isna().sum()\n",
    "dfclean=df.drop(columns=[\"Flag Codes\", \"FREQUENCY\"])\n",
    "#Flag codes is the only column with NaN is not important for our purpose, neither is Frequency\n",
    "print(dfclean)\n"
   ]
  },
  {
   "cell_type": "code",
   "execution_count": null,
   "metadata": {},
   "outputs": [],
   "source": []
  },
  {
   "cell_type": "code",
   "execution_count": null,
   "metadata": {},
   "outputs": [
    {
     "data": {
      "text/html": [
       "<div>\n",
       "<style scoped>\n",
       "    .dataframe tbody tr th:only-of-type {\n",
       "        vertical-align: middle;\n",
       "    }\n",
       "\n",
       "    .dataframe tbody tr th {\n",
       "        vertical-align: top;\n",
       "    }\n",
       "\n",
       "    .dataframe thead th {\n",
       "        text-align: right;\n",
       "    }\n",
       "</style>\n",
       "<table border=\"1\" class=\"dataframe\">\n",
       "  <thead>\n",
       "    <tr style=\"text-align: right;\">\n",
       "      <th></th>\n",
       "      <th>index</th>\n",
       "      <th>LOCATION</th>\n",
       "      <th>INDICATOR</th>\n",
       "      <th>SUBJECT</th>\n",
       "      <th>MEASURE</th>\n",
       "      <th>TIME</th>\n",
       "      <th>Value</th>\n",
       "    </tr>\n",
       "  </thead>\n",
       "  <tbody>\n",
       "    <tr>\n",
       "      <th>0</th>\n",
       "      <td>0</td>\n",
       "      <td>AUS</td>\n",
       "      <td>CPI</td>\n",
       "      <td>ENRG</td>\n",
       "      <td>AGRWTH</td>\n",
       "      <td>1972</td>\n",
       "      <td>4.910070</td>\n",
       "    </tr>\n",
       "    <tr>\n",
       "      <th>1</th>\n",
       "      <td>1</td>\n",
       "      <td>AUS</td>\n",
       "      <td>CPI</td>\n",
       "      <td>ENRG</td>\n",
       "      <td>AGRWTH</td>\n",
       "      <td>1973</td>\n",
       "      <td>3.762801</td>\n",
       "    </tr>\n",
       "    <tr>\n",
       "      <th>2</th>\n",
       "      <td>2</td>\n",
       "      <td>AUS</td>\n",
       "      <td>CPI</td>\n",
       "      <td>ENRG</td>\n",
       "      <td>AGRWTH</td>\n",
       "      <td>1974</td>\n",
       "      <td>13.173540</td>\n",
       "    </tr>\n",
       "    <tr>\n",
       "      <th>3</th>\n",
       "      <td>3</td>\n",
       "      <td>AUS</td>\n",
       "      <td>CPI</td>\n",
       "      <td>ENRG</td>\n",
       "      <td>AGRWTH</td>\n",
       "      <td>1975</td>\n",
       "      <td>19.422470</td>\n",
       "    </tr>\n",
       "    <tr>\n",
       "      <th>4</th>\n",
       "      <td>4</td>\n",
       "      <td>AUS</td>\n",
       "      <td>CPI</td>\n",
       "      <td>ENRG</td>\n",
       "      <td>AGRWTH</td>\n",
       "      <td>1976</td>\n",
       "      <td>8.833195</td>\n",
       "    </tr>\n",
       "    <tr>\n",
       "      <th>...</th>\n",
       "      <td>...</td>\n",
       "      <td>...</td>\n",
       "      <td>...</td>\n",
       "      <td>...</td>\n",
       "      <td>...</td>\n",
       "      <td>...</td>\n",
       "      <td>...</td>\n",
       "    </tr>\n",
       "    <tr>\n",
       "      <th>64400</th>\n",
       "      <td>292646</td>\n",
       "      <td>EU27_2020</td>\n",
       "      <td>CPI</td>\n",
       "      <td>ENRG</td>\n",
       "      <td>IDX2015</td>\n",
       "      <td>Aug-22</td>\n",
       "      <td>156.320000</td>\n",
       "    </tr>\n",
       "    <tr>\n",
       "      <th>64401</th>\n",
       "      <td>292647</td>\n",
       "      <td>EU27_2020</td>\n",
       "      <td>CPI</td>\n",
       "      <td>ENRG</td>\n",
       "      <td>IDX2015</td>\n",
       "      <td>Sep-22</td>\n",
       "      <td>160.730000</td>\n",
       "    </tr>\n",
       "    <tr>\n",
       "      <th>64402</th>\n",
       "      <td>292648</td>\n",
       "      <td>EU27_2020</td>\n",
       "      <td>CPI</td>\n",
       "      <td>ENRG</td>\n",
       "      <td>IDX2015</td>\n",
       "      <td>Oct-22</td>\n",
       "      <td>168.140000</td>\n",
       "    </tr>\n",
       "    <tr>\n",
       "      <th>64403</th>\n",
       "      <td>292649</td>\n",
       "      <td>EU27_2020</td>\n",
       "      <td>CPI</td>\n",
       "      <td>ENRG</td>\n",
       "      <td>IDX2015</td>\n",
       "      <td>Nov-22</td>\n",
       "      <td>165.870000</td>\n",
       "    </tr>\n",
       "    <tr>\n",
       "      <th>64404</th>\n",
       "      <td>292650</td>\n",
       "      <td>EU27_2020</td>\n",
       "      <td>CPI</td>\n",
       "      <td>ENRG</td>\n",
       "      <td>IDX2015</td>\n",
       "      <td>Dec-22</td>\n",
       "      <td>156.840000</td>\n",
       "    </tr>\n",
       "  </tbody>\n",
       "</table>\n",
       "<p>64405 rows × 7 columns</p>\n",
       "</div>"
      ],
      "text/plain": [
       "        index   LOCATION INDICATOR SUBJECT  MEASURE    TIME       Value\n",
       "0           0        AUS       CPI    ENRG   AGRWTH    1972    4.910070\n",
       "1           1        AUS       CPI    ENRG   AGRWTH    1973    3.762801\n",
       "2           2        AUS       CPI    ENRG   AGRWTH    1974   13.173540\n",
       "3           3        AUS       CPI    ENRG   AGRWTH    1975   19.422470\n",
       "4           4        AUS       CPI    ENRG   AGRWTH    1976    8.833195\n",
       "...       ...        ...       ...     ...      ...     ...         ...\n",
       "64400  292646  EU27_2020       CPI    ENRG  IDX2015  Aug-22  156.320000\n",
       "64401  292647  EU27_2020       CPI    ENRG  IDX2015  Sep-22  160.730000\n",
       "64402  292648  EU27_2020       CPI    ENRG  IDX2015  Oct-22  168.140000\n",
       "64403  292649  EU27_2020       CPI    ENRG  IDX2015  Nov-22  165.870000\n",
       "64404  292650  EU27_2020       CPI    ENRG  IDX2015  Dec-22  156.840000\n",
       "\n",
       "[64405 rows x 7 columns]"
      ]
     },
     "execution_count": null,
     "metadata": {},
     "output_type": "execute_result"
    }
   ],
   "source": [
    "#dfmean=dfclean.groupby([\"LOCATION\",\"SUBJECT\"])[\"Value\"].mean()\n",
    "#dfmean\n",
    "dfenergy=  dfclean.loc[dfclean['SUBJECT'] == \"ENRG\"]\n",
    "dfenergy.reset_index()"
   ]
  },
  {
   "cell_type": "code",
   "execution_count": null,
   "metadata": {},
   "outputs": [
    {
     "data": {
      "text/plain": [
       "([<matplotlib.axis.XTick>,\n",
       "  <matplotlib.axis.XTick>,\n",
       "  <matplotlib.axis.XTick>,\n",
       "  <matplotlib.axis.XTick>,\n",
       "  <matplotlib.axis.XTick>,\n",
       "  <matplotlib.axis.XTick>,\n",
       "  <matplotlib.axis.XTick>],\n",
       " [Text(0, 0, '1961'),\n",
       "  Text(10, 0, '1971'),\n",
       "  Text(20, 0, '1981'),\n",
       "  Text(30, 0, '1991'),\n",
       "  Text(40, 0, '2001'),\n",
       "  Text(50, 0, '2011'),\n",
       "  Text(60, 0, '2021')])"
      ]
     },
     "execution_count": null,
     "metadata": {},
     "output_type": "execute_result"
    },
    {
     "data": {
      "image/png": "[encoded data removed]",
      "text/plain": [
       "<Figure size 640x480 with 1 Axes>"
      ]
     },
     "metadata": {},
     "output_type": "display_data"
    }
   ],
   "source": [
    "df_enrg_CAN= dfenergy.loc[dfclean['LOCATION']==\"CAN\"]\n",
    "df_enrg_CAN.reset_index()\n",
    "df_enrg_CAN_sub=df_enrg_CAN.loc[518:578]\n",
    "\n",
    "CAN_sub_plot=sns.barplot(data=df_enrg_CAN_sub, x=df_enrg_CAN_sub['TIME'], y=df_enrg_CAN_sub['Value'])\n",
    "CAN_sub_plot.set_xticklabels(CAN_sub_plot.get_xticklabels(range(20)), rotation=45)\n",
    "plt.xticks([0, 10, 20,30,40,50,60], ['1961', '1971', '1981','1991','2001', '2011', '2021'])"
   ]
  },
  {
   "cell_type": "markdown",
   "metadata": {},
   "source": [
    "## Research question/interests\n",
    "\n",
    "- #### What affect does the goverments economic system and practices have on the nations economic stability and consistancy?\n",
    "- #### How much inflation changes over time and if countries show similar trends or if every country tends to run on their own cycle?\n",
    "- Inflation and CPI is said to change the world economy and potentially all of society, if that is the case I hope to learn as much as possible about it. \n",
    "- Learning to use dataset with finances will assist my future career developement of potentially working in the data analytics field for a finacial firm. \n"
   ]
  },
  {
   "cell_type": "code",
   "execution_count": null,
   "metadata": {},
   "outputs": [],
   "source": []
  }
 ],
 "metadata": {
  "kernelspec": {
   "display_name": "Python 3 (ipykernel)",
   "language": "python",
   "name": "python3"
  }
 },
 "nbformat": 4,
 "nbformat_minor": 4
}
