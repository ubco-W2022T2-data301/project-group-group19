{
 "cells": [
  {
   "cell_type": "markdown",
   "metadata": {},
   "source": [
    "# Dylan Saunders"
   ]
  },
  {
   "cell_type": "code",
   "execution_count": null,
   "metadata": {},
   "outputs": [
    {
     "name": "stdout",
     "output_type": "stream",
     "text": [
      "         LOCATION INDICATOR       SUBJECT  MEASURE FREQUENCY    TIME  \\\n",
      "0             AUS       CPI          ENRG   AGRWTH         A    1972   \n",
      "1             AUS       CPI          ENRG   AGRWTH         A    1973   \n",
      "2             AUS       CPI          ENRG   AGRWTH         A    1974   \n",
      "3             AUS       CPI          ENRG   AGRWTH         A    1975   \n",
      "4             AUS       CPI          ENRG   AGRWTH         A    1976   \n",
      "...           ...       ...           ...      ...       ...     ...   \n",
      "293465  EU27_2020       CPI  TOT_FOODENRG  IDX2015         M  Aug-22   \n",
      "293466  EU27_2020       CPI  TOT_FOODENRG  IDX2015         M  Sep-22   \n",
      "293467  EU27_2020       CPI  TOT_FOODENRG  IDX2015         M  Oct-22   \n",
      "293468  EU27_2020       CPI  TOT_FOODENRG  IDX2015         M  Nov-22   \n",
      "293469  EU27_2020       CPI  TOT_FOODENRG  IDX2015         M  Dec-22   \n",
      "\n",
      "             Value Flag Codes  \n",
      "0         4.910070        NaN  \n",
      "1         3.762801        NaN  \n",
      "2        13.173540        NaN  \n",
      "3        19.422470        NaN  \n",
      "4         8.833195        NaN  \n",
      "...            ...        ...  \n",
      "293465  112.760000        NaN  \n",
      "293466  113.830000        NaN  \n",
      "293467  114.560000        NaN  \n",
      "293468  114.690000        NaN  \n",
      "293469  115.380000        NaN  \n",
      "\n",
      "[293470 rows x 8 columns]\n"
     ]
    }
   ],
   "source": [
    "import pandas as pd\n",
    "\n",
    "df = pd.read_csv(r'Inflationdataset.csv')\n",
    "print(df)"
   ]
  },
  {
   "cell_type": "markdown",
   "metadata": {},
   "source": [
    "## Research question/interests\n",
    "\n",
    "- #### What affect does the goverments economic system and practices have on the nations economic stability and consistancy?\n",
    "- #### How much inflation changes over time and if countries show similar trends or if every country tends to run on their own cycle?\n",
    "- Inflation and CPI is said to change the world economy and potentially all of society, if that is the case I hope to learn as much as possible about it. \n",
    "- Learning to use dataset with finances will assist my future career developement of potentially working in the data analytics field for a finacial firm. \n"
   ]
  },
  {
   "cell_type": "code",
   "execution_count": null,
   "metadata": {},
   "outputs": [],
   "source": []
  }
 ],
 "metadata": {
  "kernelspec": {
   "display_name": "Python 3 (ipykernel)",
   "language": "python",
   "name": "python3"
  }
 },
 "nbformat": 4,
 "nbformat_minor": 4
}
