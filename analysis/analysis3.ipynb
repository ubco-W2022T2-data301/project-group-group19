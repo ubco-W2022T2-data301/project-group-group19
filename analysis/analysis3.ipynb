{
 "cells": [
  {
   "cell_type": "markdown",
   "metadata": {},
   "source": [
    "# Zain Ali"
   ]
  },
  {
   "cell_type": "markdown",
   "metadata": {},
   "source": [
    "## Research question/interests\n",
    "- ** What are the differences in the trends of inflation in more Captilatist economies as compared to mixed economies?**\n",
    "- Since the data set used consists for much more thhan 30 years, and consists data for numerous different countries, I wish to see what the difference in inflation trends has been between Capitalist and mixed economies, and if there is a significant difference in the two.\n",
    "- **  Does a high or low CPI indicate whether a country is developing or developed**\n",
    "- With data from numerous countries, I wish to analyse and understand the trend of CPI and its effect on a countries stance on development."
   ]
  },
  {
   "cell_type": "code",
   "execution_count": null,
   "metadata": {},
   "outputs": [
    {
     "name": "stdout",
     "output_type": "stream",
     "text": [
      "         LOCATION INDICATOR       SUBJECT  MEASURE FREQUENCY    TIME  \\\n",
      "0             AUS       CPI          ENRG   AGRWTH         A    1972   \n",
      "1             AUS       CPI          ENRG   AGRWTH         A    1973   \n",
      "2             AUS       CPI          ENRG   AGRWTH         A    1974   \n",
      "3             AUS       CPI          ENRG   AGRWTH         A    1975   \n",
      "4             AUS       CPI          ENRG   AGRWTH         A    1976   \n",
      "...           ...       ...           ...      ...       ...     ...   \n",
      "293465  EU27_2020       CPI  TOT_FOODENRG  IDX2015         M  Aug-22   \n",
      "293466  EU27_2020       CPI  TOT_FOODENRG  IDX2015         M  Sep-22   \n",
      "293467  EU27_2020       CPI  TOT_FOODENRG  IDX2015         M  Oct-22   \n",
      "293468  EU27_2020       CPI  TOT_FOODENRG  IDX2015         M  Nov-22   \n",
      "293469  EU27_2020       CPI  TOT_FOODENRG  IDX2015         M  Dec-22   \n",
      "\n",
      "             Value Flag Codes  \n",
      "0         4.910070        NaN  \n",
      "1         3.762801        NaN  \n",
      "2        13.173540        NaN  \n",
      "3        19.422470        NaN  \n",
      "4         8.833195        NaN  \n",
      "...            ...        ...  \n",
      "293465  112.760000        NaN  \n",
      "293466  113.830000        NaN  \n",
      "293467  114.560000        NaN  \n",
      "293468  114.690000        NaN  \n",
      "293469  115.380000        NaN  \n",
      "\n",
      "[293470 rows x 8 columns]\n"
     ]
    }
   ],
   "source": [
    "import pandas as pd\n",
    "import numpy as nm\n",
    "df = pd.read_csv('./../data/raw/Inflationdataset.csv')\n",
    "print(df)"
   ]
  },
  {
   "cell_type": "code",
   "execution_count": null,
   "metadata": {},
   "outputs": [],
   "source": []
  }
 ],
 "metadata": {
  "kernelspec": {
   "display_name": "Python 3 (ipykernel)",
   "language": "python",
   "name": "python3"
  },
  "language_info": {
   "name": "python",
   "version": "3.10.8"
  }
 },
 "nbformat": 4,
 "nbformat_minor": 4
}
